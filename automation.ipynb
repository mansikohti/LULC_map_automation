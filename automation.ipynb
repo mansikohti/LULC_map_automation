{
 "cells": [
  {
   "cell_type": "code",
   "execution_count": 1,
   "id": "e18101ff",
   "metadata": {},
   "outputs": [],
   "source": [
    "import os\n",
    "\n",
    "from helpers.helpers_clean import *\n",
    "from helpers.helpers_difference import *\n",
    "from helpers.helpers_buffer import *\n",
    "from helpers.helpers_merge import *\n",
    "from helpers.helpers_read_data import *\n"
   ]
  },
  {
   "cell_type": "code",
   "execution_count": 2,
   "id": "9101e313",
   "metadata": {},
   "outputs": [],
   "source": [
    "### Input Data \n",
    "#input_folder = \"D:/2_Analytics/9_LULC_classification/automation/WF/WF\"\n",
    "\n",
    "input_folder = \"D:/2_Analytics/9_LULC_classification/automation/data_2/Chirmiri OCM_Fix_Geometry_Mansi/Chirmiri OCM_Fix_Geometry_Mansi\"\n",
    "\n",
    "# output folder \n",
    "#output_folder_path = \"D:/2_Analytics/9_LULC_classification/automation/output\"\n",
    "output_folder_path = \"D:/2_Analytics/9_LULC_classification/automation/data_2/output_folder\"\n",
    "os.makedirs(output_folder_path, exist_ok=True)\n",
    "\n",
    "\n",
    "## parameters\n",
    "buffer = 10   ## in meters\n",
    "min_area_removed = 25  # sq.m\n",
    "inset_buffer_for_AOI = 0.2   # in meters"
   ]
  },
  {
   "cell_type": "code",
   "execution_count": 3,
   "id": "4eb68958",
   "metadata": {},
   "outputs": [
    {
     "name": "stdout",
     "output_type": "stream",
     "text": [
      "AOI file: D:\\2_Analytics\\9_LULC_classification\\automation\\data_2\\Chirmiri OCM_Fix_Geometry_Mansi\\Chirmiri OCM_Fix_Geometry_Mansi\\aoi.shp\n",
      "Settlement file: D:\\2_Analytics\\9_LULC_classification\\automation\\data_2\\Chirmiri OCM_Fix_Geometry_Mansi\\Chirmiri OCM_Fix_Geometry_Mansi\\settlement.shp\n",
      "Other shapefiles: ['D:\\\\2_Analytics\\\\9_LULC_classification\\\\automation\\\\data_2\\\\Chirmiri OCM_Fix_Geometry_Mansi\\\\Chirmiri OCM_Fix_Geometry_Mansi\\\\C__Agricultural_Land.shp', 'D:\\\\2_Analytics\\\\9_LULC_classification\\\\automation\\\\data_2\\\\Chirmiri OCM_Fix_Geometry_Mansi\\\\Chirmiri OCM_Fix_Geometry_Mansi\\\\C__Barren_Area.shp', 'D:\\\\2_Analytics\\\\9_LULC_classification\\\\automation\\\\data_2\\\\Chirmiri OCM_Fix_Geometry_Mansi\\\\Chirmiri OCM_Fix_Geometry_Mansi\\\\C__Boundaries.shp', 'D:\\\\2_Analytics\\\\9_LULC_classification\\\\automation\\\\data_2\\\\Chirmiri OCM_Fix_Geometry_Mansi\\\\Chirmiri OCM_Fix_Geometry_Mansi\\\\C__Forest_Area.shp', 'D:\\\\2_Analytics\\\\9_LULC_classification\\\\automation\\\\data_2\\\\Chirmiri OCM_Fix_Geometry_Mansi\\\\Chirmiri OCM_Fix_Geometry_Mansi\\\\C__Haul_Roads.shp', 'D:\\\\2_Analytics\\\\9_LULC_classification\\\\automation\\\\data_2\\\\Chirmiri OCM_Fix_Geometry_Mansi\\\\Chirmiri OCM_Fix_Geometry_Mansi\\\\C__Mine_Area.shp', 'D:\\\\2_Analytics\\\\9_LULC_classification\\\\automation\\\\data_2\\\\Chirmiri OCM_Fix_Geometry_Mansi\\\\Chirmiri OCM_Fix_Geometry_Mansi\\\\C__Plantation.shp', 'D:\\\\2_Analytics\\\\9_LULC_classification\\\\automation\\\\data_2\\\\Chirmiri OCM_Fix_Geometry_Mansi\\\\Chirmiri OCM_Fix_Geometry_Mansi\\\\C__Waterbodies.shp', 'D:\\\\2_Analytics\\\\9_LULC_classification\\\\automation\\\\data_2\\\\Chirmiri OCM_Fix_Geometry_Mansi\\\\Chirmiri OCM_Fix_Geometry_Mansi\\\\Dump Area_Dump Area.shp', 'D:\\\\2_Analytics\\\\9_LULC_classification\\\\automation\\\\data_2\\\\Chirmiri OCM_Fix_Geometry_Mansi\\\\Chirmiri OCM_Fix_Geometry_Mansi\\\\PIT Area_Pit Area.shp', 'D:\\\\2_Analytics\\\\9_LULC_classification\\\\automation\\\\data_2\\\\Chirmiri OCM_Fix_Geometry_Mansi\\\\Chirmiri OCM_Fix_Geometry_Mansi\\\\Stock Area_Stock Area.shp']\n",
      "[('D:\\\\2_Analytics\\\\9_LULC_classification\\\\automation\\\\data_2\\\\Chirmiri OCM_Fix_Geometry_Mansi\\\\Chirmiri OCM_Fix_Geometry_Mansi\\\\C__Agricultural_Land.shp', 'C  Agricultural Land'), ('D:\\\\2_Analytics\\\\9_LULC_classification\\\\automation\\\\data_2\\\\Chirmiri OCM_Fix_Geometry_Mansi\\\\Chirmiri OCM_Fix_Geometry_Mansi\\\\C__Barren_Area.shp', 'C  Barren Area'), ('D:\\\\2_Analytics\\\\9_LULC_classification\\\\automation\\\\data_2\\\\Chirmiri OCM_Fix_Geometry_Mansi\\\\Chirmiri OCM_Fix_Geometry_Mansi\\\\C__Boundaries.shp', 'C  Boundaries'), ('D:\\\\2_Analytics\\\\9_LULC_classification\\\\automation\\\\data_2\\\\Chirmiri OCM_Fix_Geometry_Mansi\\\\Chirmiri OCM_Fix_Geometry_Mansi\\\\C__Forest_Area.shp', 'C  Forest Area'), ('D:\\\\2_Analytics\\\\9_LULC_classification\\\\automation\\\\data_2\\\\Chirmiri OCM_Fix_Geometry_Mansi\\\\Chirmiri OCM_Fix_Geometry_Mansi\\\\C__Haul_Roads.shp', 'C  Haul Roads'), ('D:\\\\2_Analytics\\\\9_LULC_classification\\\\automation\\\\data_2\\\\Chirmiri OCM_Fix_Geometry_Mansi\\\\Chirmiri OCM_Fix_Geometry_Mansi\\\\C__Mine_Area.shp', 'C  Mine Area'), ('D:\\\\2_Analytics\\\\9_LULC_classification\\\\automation\\\\data_2\\\\Chirmiri OCM_Fix_Geometry_Mansi\\\\Chirmiri OCM_Fix_Geometry_Mansi\\\\C__Plantation.shp', 'C  Plantation'), ('D:\\\\2_Analytics\\\\9_LULC_classification\\\\automation\\\\data_2\\\\Chirmiri OCM_Fix_Geometry_Mansi\\\\Chirmiri OCM_Fix_Geometry_Mansi\\\\C__Waterbodies.shp', 'C  Waterbodies'), ('D:\\\\2_Analytics\\\\9_LULC_classification\\\\automation\\\\data_2\\\\Chirmiri OCM_Fix_Geometry_Mansi\\\\Chirmiri OCM_Fix_Geometry_Mansi\\\\Dump Area_Dump Area.shp', 'Dump Area Dump Area'), ('D:\\\\2_Analytics\\\\9_LULC_classification\\\\automation\\\\data_2\\\\Chirmiri OCM_Fix_Geometry_Mansi\\\\Chirmiri OCM_Fix_Geometry_Mansi\\\\PIT Area_Pit Area.shp', 'Pit Area Pit Area'), ('D:\\\\2_Analytics\\\\9_LULC_classification\\\\automation\\\\data_2\\\\Chirmiri OCM_Fix_Geometry_Mansi\\\\Chirmiri OCM_Fix_Geometry_Mansi\\\\Stock Area_Stock Area.shp', 'Stock Area Stock Area')]\n"
     ]
    }
   ],
   "source": [
    "## fetch the input data \n",
    "\n",
    "aoi_path, settlement_path, other_shps = fetch_shapefile_paths(input_folder)\n",
    "\n",
    "print(\"AOI file:\", aoi_path)\n",
    "print(\"Settlement file:\", settlement_path)\n",
    "print(\"Other shapefiles:\", other_shps)\n",
    "\n",
    "pairs = make_shapefile_pairs(other_shps)\n",
    "print(pairs)"
   ]
  },
  {
   "cell_type": "markdown",
   "id": "2b3fad76",
   "metadata": {},
   "source": [
    "Operation 1: Get the buffers to settlement "
   ]
  },
  {
   "cell_type": "code",
   "execution_count": 4,
   "id": "7a9b72fa",
   "metadata": {},
   "outputs": [
    {
     "name": "stdout",
     "output_type": "stream",
     "text": [
      "Loaded: D:\\2_Analytics\\9_LULC_classification\\automation\\data_2\\Chirmiri OCM_Fix_Geometry_Mansi\\Chirmiri OCM_Fix_Geometry_Mansi\\settlement.shp\n",
      "Original CRS: EPSG:32644\n",
      "Created 7174 buffered geometries (buffer=10 m).\n",
      "Dissolved all buffered geometries into one.\n",
      "Filled holes inside dissolved geometry (interiors removed).\n",
      "Saved buffered: D:/2_Analytics/9_LULC_classification/automation/data_2/output_folder\\related_files_settlement\\buffered_settlement_shp.shp\n",
      "Saved dissolved: D:/2_Analytics/9_LULC_classification/automation/data_2/output_folder\\related_files_settlement\\dissolved_settlement_shp.shp\n",
      "Saved filled dissolved: D:/2_Analytics/9_LULC_classification/automation/data_2/output_folder\\related_files_settlement\\dissoved_and_gap_filled_settlement_shp.shp\n"
     ]
    }
   ],
   "source": [
    "settlement_folder_path = os.path.join(output_folder_path, \"related_files_settlement\")\n",
    "os.makedirs(settlement_folder_path, exist_ok=True)\n",
    "\n",
    "buffered_settlement_path = os.path.join(settlement_folder_path, \"buffered_settlement_shp.shp\")\n",
    "dissolved_settlement_path = os.path.join(settlement_folder_path, \"dissolved_settlement_shp.shp\")\n",
    "dissolved_and_gap_filled_settlement_path = os.path.join(settlement_folder_path, \"dissoved_and_gap_filled_settlement_shp.shp\")\n",
    "\n",
    "\n",
    "# Example usage:\n",
    "gdf_buf, gdf_diss, gdf_diss_filled = buffer_and_dissolve(\n",
    "    input_shp=settlement_path,\n",
    "    buffer_m=buffer,\n",
    "    out_buffered=buffered_settlement_path,\n",
    "    out_dissolved=dissolved_settlement_path,\n",
    "    out_filled_dissolved=dissolved_and_gap_filled_settlement_path ,\n",
    "    min_area_remove=0\n",
    ")\n"
   ]
  },
  {
   "cell_type": "markdown",
   "id": "e10cf376",
   "metadata": {},
   "source": [
    "opeartion 2: subtract (all other layers) from dissolved settlement "
   ]
  },
  {
   "cell_type": "code",
   "execution_count": 5,
   "id": "d4b661ff",
   "metadata": {},
   "outputs": [
    {
     "name": "stdout",
     "output_type": "stream",
     "text": [
      "Saved difference shapefile to: D:/2_Analytics/9_LULC_classification/automation/data_2/output_folder\\related_files_settlement\\cropped_dissolved_settlement_shp.shp\n",
      "Area (dissolved): 1423800.43\n",
      "Area (merged to subtract): 12570896.44\n",
      "Area (difference/out): 1166069.08\n"
     ]
    }
   ],
   "source": [
    "## merge all classes without dissolved settlment\n",
    "\n",
    "classes_folder_path = os.path.join(output_folder_path, \"related_files_classes\")\n",
    "os.makedirs(classes_folder_path, exist_ok=True)\n",
    "\n",
    "merged_classes_without_settlement_path = os.path.join(classes_folder_path, \"merged_classes_except_settlement_shp.shp\")\n",
    "\n",
    "merged_classes_without_settlement_gdf = merge_shapefiles_with_class(pairs, merged_classes_without_settlement_path, dissolve=False)\n",
    "\n",
    "\n",
    "\n",
    "## subtract all features from dissolved settlement \n",
    "\n",
    "\n",
    "cropped_dissolved_settlement_path = os.path.join(settlement_folder_path, \"cropped_dissolved_settlement_shp.shp\")\n",
    "\n",
    "cropped_dissolved_settlement_gdf = subtract_shapefiles(dissolved_and_gap_filled_settlement_path, \n",
    "                                                        merged_classes_without_settlement_path, \n",
    "                                                        cropped_dissolved_settlement_path)\n",
    "\n",
    "\n",
    "\n",
    "exploded_path = os.path.join(settlement_folder_path, \"exploded_settlement_shp.shp\")\n",
    "filtered_settlement_path = os.path.join(settlement_folder_path, \"final_cropped_settlement_shp.shp\")\n",
    "\n",
    "exploded, filtered = explode_and_filter_features(\n",
    "    cropped_dissolved_settlement_path,\n",
    "    exploded_path,\n",
    "    filtered_settlement_path,\n",
    "    min_area_sqm=min_area_removed\n",
    ")"
   ]
  },
  {
   "cell_type": "markdown",
   "id": "1ed272da",
   "metadata": {},
   "source": [
    "Operation 3: subtract all features and cropped dissolved settlement from AOI "
   ]
  },
  {
   "cell_type": "code",
   "execution_count": null,
   "id": "47eee781",
   "metadata": {},
   "outputs": [
    {
     "name": "stdout",
     "output_type": "stream",
     "text": [
      "Merged 45 + 351 features -> 396 written to: D:/2_Analytics/9_LULC_classification/automation/data_2/output_folder\\related_files_classes\\merged_classes_except_unclassified.shp\n",
      "AOI inset by 0.2 m: features 1\n",
      "Unclassified features: 144, total area (units²): 191522.99\n",
      "Merged (clipped to AOI) features: 539, total area (units²): 13909165.12\n",
      "Saved unclassified -> D:/2_Analytics/9_LULC_classification/automation/data_2/output_folder\\unclassified_shp.shp\n",
      "Saved merged (classes + unclassified, clipped to AOI) -> D:/2_Analytics/9_LULC_classification/automation/data_2/output_folder\\related_files_classes\\all_classes_including_unclassified_shp.shp\n",
      "Saved cleaned shapefile to D:/2_Analytics/9_LULC_classification/automation/data_2/output_folder\\final_classes_shp.shp with 539 features.\n"
     ]
    }
   ],
   "source": [
    "merged_classes_path = os.path.join(classes_folder_path, \"merged_classes_except_unclassified.shp\")\n",
    "# Example usage:\n",
    "merged_gdf = merge_two_shapefiles_keep_class(filtered_settlement_path, \n",
    "                                             merged_classes_without_settlement_path, \n",
    "                                             merged_classes_path)\n",
    "\n",
    "\n",
    "unclassified_path = os.path.join(output_folder_path, \"unclassified_shp.shp\")\n",
    "merged_with_unclassified_path = os.path.join(classes_folder_path, \"all_classes_including_unclassified_shp.shp\")\n",
    "unclassified_gdf, merged_gdf = subtract_using_aoi_inset_and_write(\n",
    "    aoi_shp=aoi_path,\n",
    "    classes_shp=merged_classes_path,\n",
    "    unclassified_shp=unclassified_path,\n",
    "    merged_shp=merged_with_unclassified_path,\n",
    "    inset_m=inset_buffer_for_AOI,\n",
    "    reproject_classes_to_aoi=True,\n",
    "    explode_result=True,\n",
    "    min_area_sqm=0.1,\n",
    "    dissolve_by_class=False\n",
    ")\n",
    "\n",
    "\n",
    "output_path = os.path.join(output_folder_path, \"final_classes_shp.shp\")\n",
    "\n",
    "cleaned_gdf = clean_attributes_with_area(\n",
    "    input_shp=merged_with_unclassified_path ,\n",
    "    output_shp=output_path\n",
    ")"
   ]
  },
  {
   "cell_type": "code",
   "execution_count": null,
   "id": "2f1efd84",
   "metadata": {},
   "outputs": [],
   "source": []
  },
  {
   "cell_type": "code",
   "execution_count": null,
   "id": "0deeabcf",
   "metadata": {},
   "outputs": [],
   "source": []
  },
  {
   "cell_type": "code",
   "execution_count": null,
   "id": "132202eb",
   "metadata": {},
   "outputs": [],
   "source": []
  },
  {
   "cell_type": "code",
   "execution_count": null,
   "id": "bae708a6",
   "metadata": {},
   "outputs": [],
   "source": []
  }
 ],
 "metadata": {
  "kernelspec": {
   "display_name": "lulc_cls_env",
   "language": "python",
   "name": "python3"
  },
  "language_info": {
   "codemirror_mode": {
    "name": "ipython",
    "version": 3
   },
   "file_extension": ".py",
   "mimetype": "text/x-python",
   "name": "python",
   "nbconvert_exporter": "python",
   "pygments_lexer": "ipython3",
   "version": "3.13.5"
  }
 },
 "nbformat": 4,
 "nbformat_minor": 5
}
